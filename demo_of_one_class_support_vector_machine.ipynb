{
 "cells": [
  {
   "cell_type": "markdown",
   "metadata": {},
   "source": [
    "# 1クラスサポートベクターマシンのデモプログラム"
   ]
  },
  {
   "cell_type": "markdown",
   "metadata": {},
   "source": [
    "1クラスサポートベクターマシンのデモプログラムです。  \n",
    "1クラスサポートベクターマシンの中身に関してはこちら↓で解説しています。  \n",
    "https://yuyumoyuyu.com/2021/01/31/oneclasssupportvectormachine/"
   ]
  },
  {
   "cell_type": "code",
   "execution_count": 1,
   "metadata": {},
   "outputs": [],
   "source": [
    "import pandas as pd\n",
    "import matplotlib.pyplot as plt\n",
    "from matplotlib.colors import ListedColormap\n",
    "import numpy as np\n",
    "\n",
    "%matplotlib inline"
   ]
  },
  {
   "cell_type": "markdown",
   "metadata": {},
   "source": [
    "### データの整形"
   ]
  },
  {
   "cell_type": "code",
   "execution_count": 2,
   "metadata": {
    "scrolled": true
   },
   "outputs": [
    {
     "data": {
      "image/png": "[encoded data removed]",
      "text/plain": [
       "<Figure size 432x288 with 1 Axes>"
      ]
     },
     "metadata": {
      "needs_background": "light"
     },
     "output_type": "display_data"
    }
   ],
   "source": [
    "# sklearnのデータセットを用いる\n",
    "from sklearn.datasets import make_blobs\n",
    "\n",
    "X, _ = make_blobs(random_state=1,\n",
    "                 n_samples=30,\n",
    "                 n_features=2,\n",
    "                 cluster_std=1.,\n",
    "                 centers=2)\n",
    "\n",
    "X_out, _ = make_blobs(random_state=16,\n",
    "                      n_samples=6,\n",
    "                      n_features=2,\n",
    "                      cluster_std=1.,\n",
    "                      centers=2)\n",
    "\n",
    "\n",
    "X = np.vstack((X, X_out))\n",
    "\n",
    "plt.figure()\n",
    "\n",
    "plt.scatter(X[:, 0], X[:, 1], marker='o', c='green', s=25)\n",
    "plt.xlabel(\"x1\")\n",
    "plt.ylabel(\"x2\")\n",
    "\n",
    "plt.show()"
   ]
  },
  {
   "cell_type": "code",
   "execution_count": 3,
   "metadata": {},
   "outputs": [
    {
     "name": "stdout",
     "output_type": "stream",
     "text": [
      "X =\n",
      " [[ -0.19745197   2.34634916]\n",
      " [ -1.34052081   4.15711949]\n",
      " [-10.66895863  -3.96601315]\n",
      " [ -1.92744799   4.93684534]\n",
      " [ -9.94690475  -4.59034419]\n",
      " [ -1.98197711   4.02243551]\n",
      " [ -2.35122066   4.00973634]\n",
      " [ -1.61734616   4.98930508]\n",
      " [ -9.87755355  -3.33614544]\n",
      " [ -9.80679702  -1.85309341]]\n"
     ]
    }
   ],
   "source": [
    "# 入力データは2次元の座標データ\n",
    "print(\"X =\\n\", X[:10])"
   ]
  },
  {
   "cell_type": "markdown",
   "metadata": {},
   "source": [
    "### サポートベクターマシンによる分類"
   ]
  },
  {
   "cell_type": "markdown",
   "metadata": {},
   "source": [
    "カーネル関数にはrbf(ガウシアン)カーネルを使用。  \n",
    "ハイパラの調整にはこちら↓のサイトの高速化理論を参考にしています。  \n",
    "https://datachemeng.com/fastoptsvrhyperparams/"
   ]
  },
  {
   "cell_type": "code",
   "execution_count": 4,
   "metadata": {},
   "outputs": [],
   "source": [
    "from sklearn.preprocessing import StandardScaler\n",
    "from sklearn.model_selection import GridSearchCV\n",
    "from sklearn.svm import OneClassSVM as OCSVM\n",
    "import time"
   ]
  },
  {
   "cell_type": "code",
   "execution_count": 5,
   "metadata": {},
   "outputs": [],
   "source": [
    "#　学習データを標準化\n",
    "scaler = StandardScaler()\n",
    "X_scaled = scaler.fit_transform(X)\n",
    "\n",
    "#　スケーラを保存する場合\n",
    "# joblib.dump(scaler, \"path_of_scaler.pkl\")"
   ]
  },
  {
   "cell_type": "code",
   "execution_count": 6,
   "metadata": {
    "scrolled": true
   },
   "outputs": [
    {
     "name": "stdout",
     "output_type": "stream",
     "text": [
      "OCSVM\n",
      "Elapsed time: 0.003988742828369141 sec\n"
     ]
    }
   ],
   "source": [
    "## ハイパーパラメータ最適化\n",
    "t1 = time.time()\n",
    "print(\"OCSVM\")\n",
    "\n",
    "'''\n",
    "・νの設定\n",
    "学習データが正規分布に従うとき\n",
    "「平均値±3×標準偏差」内にサンプルがある確率は99.7%\n",
    "それ以上外れているデータを外れ値として判断する場合には下記のように設定\n",
    "結果が不適切であれば，値を変えて再度学習\n",
    "'''\n",
    "nu = 1 - 99.7/100\n",
    "\n",
    "# グリッドの設定\n",
    "gammas = 2**np.arange( -20, 11, dtype=float)     # γ\n",
    "cv = 5 # 交差検証の分割数\n",
    "\n",
    "# ガンマをグラム行列の分散が最大になるよう選択\n",
    "npX = np.array(X_scaled)\n",
    "var_gram = []\n",
    "for gamma in gammas:\n",
    "    gram_matrix = np.exp(-gamma*((npX[:, np.newaxis] - npX)**2).sum(axis=2))\n",
    "    var_gram.append(gram_matrix.var(ddof=1))\n",
    "opt_gamma = gammas[np.where(var_gram == np.max(var_gram))[0][0]]\n",
    "\n",
    "t2 = time.time()\n",
    "elapsed_time = t2-t1\n",
    "print(\"Elapsed time: {} sec\".format(elapsed_time))\n",
    "\n",
    "# 最適なγで学習\n",
    "ocsvm = OCSVM(kernel=\"rbf\", gamma=opt_gamma, nu=nu).fit(X_scaled)\n",
    "# joblib.dump(ocsvm, \"path_of_model.pkl\")"
   ]
  },
  {
   "cell_type": "code",
   "execution_count": 7,
   "metadata": {},
   "outputs": [
    {
     "data": {
      "image/png": "[encoded data removed]",
      "text/plain": [
       "<Figure size 432x288 with 1 Axes>"
      ]
     },
     "metadata": {
      "needs_background": "light"
     },
     "output_type": "display_data"
    }
   ],
   "source": [
    "# 学習結果を可視化\n",
    "x1 = np.linspace(-12., 2., 100)\n",
    "x2 = np.linspace(-12., 8., 100)\n",
    "x1_mesh, x2_mesh = np.meshgrid(x1, x2)    \n",
    "\n",
    "X_mesh = scaler.transform( np.array([x1_mesh.ravel(), x2_mesh.ravel()]).T )\n",
    "\n",
    "z = ocsvm.predict(X_mesh)\n",
    "z = z.reshape(x1_mesh.shape)\n",
    "\n",
    "plt.contourf(x1_mesh, x2_mesh, z, cmap='gray_r', alpha=0.1, linestyles=None)\n",
    "plt.scatter(X[:, 0], X[:, 1], marker='o', c='green', s=10)\n",
    "\n",
    "plt.xlabel(\"x1\")\n",
    "plt.ylabel(\"x2\")\n",
    "\n",
    "plt.title('OCSVM')\n",
    "\n",
    "plt.show()"
   ]
  },
  {
   "cell_type": "code",
   "execution_count": 8,
   "metadata": {},
   "outputs": [
    {
     "name": "stdout",
     "output_type": "stream",
     "text": [
      "OCSVM\n",
      "Elapsed time: 0.002958059310913086 sec\n"
     ]
    },
    {
     "data": {
      "image/png": "[encoded data removed]",
      "text/plain": [
       "<Figure size 432x288 with 1 Axes>"
      ]
     },
     "metadata": {
      "needs_background": "light"
     },
     "output_type": "display_data"
    }
   ],
   "source": [
    "## νが大きい場合\n",
    "t1 = time.time()\n",
    "print(\"OCSVM\")\n",
    "\n",
    "# 「平均値±標準偏差」内にサンプルがある確率は68.3%\n",
    "nu = 1-0.683\n",
    "\n",
    "# グリッドの設定\n",
    "gammas = 2**np.arange( -20, 11, dtype=float)     # γ\n",
    "cv = 5 # 交差検証の分割数\n",
    "\n",
    "# ガンマをグラム行列の分散が最大になるよう選択\n",
    "npX = np.array(X_scaled)\n",
    "var_gram = []\n",
    "for gamma in gammas:\n",
    "    gram_matrix = np.exp(-gamma*((npX[:, np.newaxis] - npX)**2).sum(axis=2))\n",
    "    var_gram.append(gram_matrix.var(ddof=1))\n",
    "opt_gamma = gammas[np.where(var_gram == np.max(var_gram))[0][0]]\n",
    "\n",
    "t2 = time.time()\n",
    "elapsed_time = t2-t1\n",
    "print(\"Elapsed time: {} sec\".format(elapsed_time))\n",
    "\n",
    "# 最適なγで学習\n",
    "ocsvm = OCSVM(kernel=\"rbf\", gamma=opt_gamma, nu=nu).fit(X_scaled)\n",
    "# joblib.dump(ocsvm, \"path_of_model.pkl\")\n",
    "\n",
    "# 学習結果を可視化\n",
    "x1 = np.linspace(-12., 2., 100)\n",
    "x2 = np.linspace(-12., 8., 100)\n",
    "x1_mesh, x2_mesh = np.meshgrid(x1, x2)    \n",
    "\n",
    "X_mesh = scaler.transform( np.array([x1_mesh.ravel(), x2_mesh.ravel()]).T )\n",
    "\n",
    "z = ocsvm.predict(X_mesh)\n",
    "z = z.reshape(x1_mesh.shape)\n",
    "\n",
    "plt.contourf(x1_mesh, x2_mesh, z, cmap='gray_r', alpha=0.1, linestyles=None)\n",
    "plt.scatter(X[:, 0], X[:, 1], marker='o', c='green', s=10)\n",
    "\n",
    "plt.xlabel(\"x1\")\n",
    "plt.ylabel(\"x2\")\n",
    "\n",
    "plt.title('OCSVM')\n",
    "\n",
    "plt.show()"
   ]
  }
 ],
 "metadata": {
  "kernelspec": {
   "display_name": "mds",
   "language": "python",
   "name": "mds"
  },
  "language_info": {
   "codemirror_mode": {
    "name": "ipython",
    "version": 3
   },
   "file_extension": ".py",
   "mimetype": "text/x-python",
   "name": "python",
   "nbconvert_exporter": "python",
   "pygments_lexer": "ipython3",
   "version": "3.7.7"
  }
 },
 "nbformat": 4,
 "nbformat_minor": 2
}
